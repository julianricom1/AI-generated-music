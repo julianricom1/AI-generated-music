{
 "cells": [
  {
   "cell_type": "code",
   "execution_count": 1,
   "metadata": {
    "id": "bLQAw9bb-tyW"
   },
   "outputs": [
    {
     "name": "stdout",
     "output_type": "stream",
     "text": [
      "\u001b[33mWARNING: Running pip as the 'root' user can result in broken permissions and conflicting behaviour with the system package manager, possibly rendering your system unusable. It is recommended to use a virtual environment instead: https://pip.pypa.io/warnings/venv. Use the --root-user-action option if you know what you are doing and want to suppress this warning.\u001b[0m\u001b[33m\n",
      "\u001b[0m\u001b[33mWARNING: Running pip as the 'root' user can result in broken permissions and conflicting behaviour with the system package manager, possibly rendering your system unusable. It is recommended to use a virtual environment instead: https://pip.pypa.io/warnings/venv. Use the --root-user-action option if you know what you are doing and want to suppress this warning.\u001b[0m\u001b[33m\n",
      "\u001b[0m\u001b[33mWARNING: Running pip as the 'root' user can result in broken permissions and conflicting behaviour with the system package manager, possibly rendering your system unusable. It is recommended to use a virtual environment instead: https://pip.pypa.io/warnings/venv. Use the --root-user-action option if you know what you are doing and want to suppress this warning.\u001b[0m\u001b[33m\n",
      "\u001b[0m\u001b[33mWARNING: Running pip as the 'root' user can result in broken permissions and conflicting behaviour with the system package manager, possibly rendering your system unusable. It is recommended to use a virtual environment instead: https://pip.pypa.io/warnings/venv. Use the --root-user-action option if you know what you are doing and want to suppress this warning.\u001b[0m\u001b[33m\n",
      "\u001b[0m\u001b[33mWARNING: Running pip as the 'root' user can result in broken permissions and conflicting behaviour with the system package manager, possibly rendering your system unusable. It is recommended to use a virtual environment instead: https://pip.pypa.io/warnings/venv. Use the --root-user-action option if you know what you are doing and want to suppress this warning.\u001b[0m\u001b[33m\n",
      "\u001b[0m\u001b[33mWARNING: Running pip as the 'root' user can result in broken permissions and conflicting behaviour with the system package manager, possibly rendering your system unusable. It is recommended to use a virtual environment instead: https://pip.pypa.io/warnings/venv. Use the --root-user-action option if you know what you are doing and want to suppress this warning.\u001b[0m\u001b[33m\n",
      "\u001b[0m"
     ]
    }
   ],
   "source": [
    "# INSTALL REQUIRED LIBRARIES\n",
    "\n",
    "!pip install pandas -q\n",
    "!pip install pretty_midi -q\n",
    "!pip install torch -q\n",
    "!pip install scikit-learn -q\n",
    "!pip install seaborn -q\n",
    "!pip install tqdm -q\n",
    "\n",
    "\n",
    "# IMPORT LIBRARIES\n",
    "\n",
    "# Standard libraries\n",
    "import os                               # For handling paths and files\n",
    "import time                             # For measuring execution times\n",
    "import copy                             # For making deep copies\n",
    "import random                           # For random selection\n",
    "from datetime import datetime           # For managing timestamps\n",
    "\n",
    "# Analysis and visualization\n",
    "import numpy as np                      # Numerical computation\n",
    "import pandas as pd                     # Table data manipulation\n",
    "import seaborn as sns                   # Statistical visualization\n",
    "import matplotlib.pyplot as plt         # Plotting\n",
    "import matplotlib.patches as patches    # Drawing geometric shapes\n",
    "import matplotlib.lines as mlines       # Drawing custom lines\n",
    "\n",
    "# MIDI processing libraries\n",
    "import pretty_midi                      # Reading and writing MIDI files\n",
    "\n",
    "# PyTorch (modeling and training)\n",
    "import torch\n",
    "import torch.nn as nn\n",
    "from torch.utils.data import Dataset, DataLoader, random_split  # For managing datasets\n",
    "\n",
    "# Visual training progress\n",
    "from tqdm import tqdm                   # Progress bars\n",
    "\n",
    "# Data scaling\n",
    "from sklearn.preprocessing import MinMaxScaler\n",
    "\n",
    "# Saving and loading objects like scalers\n",
    "import joblib\n",
    "from joblib import load\n",
    "\n",
    "# Ignore non-critical warnings\n",
    "import warnings\n",
    "warnings.filterwarnings('ignore')\n",
    "\n",
    "# Consistent random seed initialization\n",
    "SEED_VAL = 99  \n",
    "random.seed(SEED_VAL)\n",
    "np.random.seed(SEED_VAL)\n",
    "torch.manual_seed(SEED_VAL)\n",
    "torch.cuda.manual_seed(SEED_VAL)\n",
    "torch.cuda.manual_seed_all(SEED_VAL)\n",
    "torch.backends.cudnn.deterministic = True\n",
    "torch.backends.cudnn.benchmark = False"
   ]
  },
  {
   "cell_type": "code",
   "execution_count": 2,
   "metadata": {
    "colab": {
     "base_uri": "https://localhost:8080/"
    },
    "id": "BAQvxG9-j9N3",
    "outputId": "58831e08-01d8-4a56-99db-e04d906714b0"
   },
   "outputs": [
    {
     "name": "stdout",
     "output_type": "stream",
     "text": [
      "Device in use:  cuda\n"
     ]
    }
   ],
   "source": [
    "device = torch.device('cuda' if torch.cuda.is_available() else 'cpu')\n",
    "print(\"Device in use: \", device)"
   ]
  },
  {
   "cell_type": "markdown",
   "metadata": {
    "id": "4LvK-5CnJsMW"
   },
   "source": [
    "# ----------------------------------------------------  Definitions  -------------------------------------------------------------"
   ]
  },
  {
   "cell_type": "code",
   "execution_count": 3,
   "metadata": {
    "id": "-u30bfpyCJDG"
   },
   "outputs": [],
   "source": [
    "def load_data_from_folder(folder_path: str, instrument_index: int = 0, verbose: bool = False):\n",
    "    \"\"\"\n",
    "    Loads MIDI files from a folder, extracts musical events from a specific instrument,\n",
    "    and normalizes duration and step values between events.\n",
    "\n",
    "    Parameters:\n",
    "    ----------\n",
    "    folder_path : str\n",
    "        Path to the folder containing MIDI files.\n",
    "    instrument_index : int, optional\n",
    "        Index of the instrument to process in each MIDI file (default is 0).\n",
    "    verbose : bool, optional\n",
    "        If True, prints information about the files being loaded.\n",
    "\n",
    "    Returns:\n",
    "    -------\n",
    "    sequences : list[dict]\n",
    "        List of sequences, each represented as a dictionary with the keys:\n",
    "        'pitch', 'step' (normalized), 'duration' (normalized), and 'velocity'.\n",
    "    \"\"\"\n",
    "\n",
    "    sequences = []\n",
    "    file_count = 0  # Counter for processed files\n",
    "\n",
    "    # Iterate over all files in the folder\n",
    "    for filename in os.listdir(folder_path):\n",
    "        file_count += 1\n",
    "        file_path = os.path.join(folder_path, filename)\n",
    "\n",
    "        # Load MIDI file\n",
    "        pm = pretty_midi.PrettyMIDI(file_path)\n",
    "\n",
    "        # Select instrument by index\n",
    "        instrument = pm.instruments[instrument_index]\n",
    "        instrument_name = pretty_midi.program_to_instrument_name(instrument.program)\n",
    "\n",
    "        if verbose:\n",
    "            print(f'Loading MIDI file #{file_count} from {folder_path}: {instrument_name}')\n",
    "\n",
    "        # Extract note information\n",
    "        pitch = np.array([note.pitch for note in instrument.notes])\n",
    "        velocity = np.array([note.velocity for note in instrument.notes])\n",
    "        start = np.array([note.start for note in instrument.notes])\n",
    "        end = np.array([note.end for note in instrument.notes])\n",
    "        duration = end - start\n",
    "        step = np.array([start[i] - start[i - 1] for i in range(1, len(start))])\n",
    "\n",
    "        # Save the sequence (omit the first note to align step)\n",
    "        track = {\n",
    "            'pitch': pitch[1:],\n",
    "            'step': step,\n",
    "            'velocity': velocity[1:] / 127,  # Normalize to [0,1] range\n",
    "            'duration': duration[1:]\n",
    "        }\n",
    "        sequences.append(track)\n",
    "\n",
    "    # Concatenate all steps and durations for scaling\n",
    "    all_step = np.concatenate([seq['step'] for seq in sequences]).reshape(-1, 1)\n",
    "    all_duration = np.concatenate([seq['duration'] for seq in sequences]).reshape(-1, 1)\n",
    "\n",
    "    # Apply MinMaxScaler to normalize to [0,1]\n",
    "    scaler_step = MinMaxScaler().fit(all_step)\n",
    "    scaler_duration = MinMaxScaler().fit(all_duration)\n",
    "\n",
    "    # Save scalers for later use (e.g., during generation)\n",
    "    os.makedirs(\"scalers\", exist_ok=True)\n",
    "    joblib.dump(scaler_step, \"scalers/scaler_step.pkl\")\n",
    "    joblib.dump(scaler_duration, \"scalers/scaler_duration.pkl\")\n",
    "\n",
    "    # Transform step and duration in each sequence\n",
    "    for seq in sequences:\n",
    "        seq['step'] = scaler_step.transform(seq['step'].reshape(-1, 1)).flatten()\n",
    "        seq['duration'] = scaler_duration.transform(seq['duration'].reshape(-1, 1)).flatten()\n",
    "\n",
    "    return sequences"
   ]
  },
  {
   "cell_type": "code",
   "execution_count": 4,
   "metadata": {
    "id": "-T51z3WQCJZA"
   },
   "outputs": [],
   "source": [
    "class CreateDataset(Dataset):\n",
    "    \"\"\"\n",
    "    Class to generate a PyTorch-compatible dataset from processed musical sequences.\n",
    "\n",
    "    Each generated fragment consists of a fixed-length sequence that serves as input (`x`),\n",
    "    and the next note as the target (`y_pitch`, `y_step`, `y_duration`, `y_velocity`).\n",
    "    This allows training sequential models that predict the next note based on previous context.\n",
    "\n",
    "    Attributes:\n",
    "    ----------\n",
    "    seq_len : int\n",
    "        Length of the input sequences (excluding the target).\n",
    "    fragments : list\n",
    "        List of fragments (dictionaries with arrays of pitch, step, duration, velocity).\n",
    "    \"\"\"\n",
    "\n",
    "    def __init__(self, sequences, seq_len=50):\n",
    "        self.seq_len = seq_len\n",
    "        self.fragments = []\n",
    "\n",
    "        for seq in sequences:\n",
    "            length = len(seq['pitch'])\n",
    "\n",
    "            # Extract fragments of length seq_len + 1 (last value is the prediction target)\n",
    "            for i in range(length - seq_len + 1):\n",
    "                if i + seq_len + 1 <= length:\n",
    "                    fragment = {\n",
    "                        'pitch': seq['pitch'][i:i+seq_len+1],\n",
    "                        'step': np.maximum(0, seq['step'][i:i+seq_len+1]),\n",
    "                        'velocity': seq['velocity'][i:i+seq_len+1],\n",
    "                        'duration': seq['duration'][i:i+seq_len+1]\n",
    "                    }\n",
    "                    self.fragments.append(fragment)\n",
    "\n",
    "    def __len__(self):\n",
    "        # Return the number of available fragments\n",
    "        return len(self.fragments)\n",
    "\n",
    "    def __getitem__(self, idx):\n",
    "        # Retrieve the corresponding fragment\n",
    "        fragment = self.fragments[idx]\n",
    "\n",
    "        # Input sequence (everything except the last step, as we want to predict the next note)\n",
    "        x = torch.stack([\n",
    "            torch.tensor(fragment['pitch'][:-1], dtype=torch.long),\n",
    "            torch.tensor(fragment['step'][:-1], dtype=torch.float),\n",
    "            torch.tensor(fragment['duration'][:-1], dtype=torch.float),\n",
    "            torch.tensor(fragment['velocity'][:-1], dtype=torch.float)\n",
    "        ], dim=1)\n",
    "\n",
    "        # Targets (last value of the sequence)\n",
    "        y_pitch = torch.tensor(fragment['pitch'][-1], dtype=torch.long)\n",
    "        y_step = torch.tensor(fragment['step'][-1], dtype=torch.float)\n",
    "        y_duration = torch.tensor(fragment['duration'][-1], dtype=torch.float)\n",
    "        y_velocity = torch.tensor(fragment['velocity'][-1], dtype=torch.float)\n",
    "\n",
    "        return x, y_pitch, y_step, y_duration, y_velocity"
   ]
  },
  {
   "cell_type": "code",
   "execution_count": 5,
   "metadata": {
    "id": "2aRb2A4iJsMb"
   },
   "outputs": [],
   "source": [
    "class LSTMModel(nn.Module):\n",
    "    \"\"\"\n",
    "    LSTM-based neural network model for musical sequence prediction.\n",
    "\n",
    "    The model receives a sequence of musical events and produces:\n",
    "    - A probability distribution for the next note (pitch) using classification.\n",
    "    - Continuous values for step, duration, and velocity using regression.\n",
    "\n",
    "    Parameters:\n",
    "    -----------\n",
    "    hidden_size : int\n",
    "        Number of hidden units in each LSTM layer.\n",
    "    lstm_layers : int\n",
    "        Number of stacked LSTM layers.\n",
    "    dropout : float\n",
    "        Dropout probability between LSTM layers.\n",
    "    pitch_embedding_dim : int\n",
    "        Dimension of the pitch embedding.\n",
    "\n",
    "    Components:\n",
    "    -----------\n",
    "    - Pitch embedding.\n",
    "    - LSTM processing the full sequence.\n",
    "    - Normalization (LayerNorm) of the last hidden state (h).\n",
    "    - Two dense branches: one for classification (pitch) and one for regression (step, duration, velocity).\n",
    "    \"\"\"\n",
    "\n",
    "    def __init__(self, hidden_size=512, lstm_layers=2, dropout=0.3, pitch_embedding_dim=40):\n",
    "        super(LSTMModel, self).__init__()\n",
    "\n",
    "        # Embedding\n",
    "        self.pitch_embedding = nn.Embedding(num_embeddings=128, embedding_dim=pitch_embedding_dim)\n",
    "\n",
    "        # Normalization of the LSTM hidden state\n",
    "        self.norm = nn.LayerNorm(hidden_size)\n",
    "\n",
    "        # LSTM\n",
    "        self.lstm = nn.LSTM(\n",
    "            input_size=pitch_embedding_dim + 3,  # embedding size + step + duration + velocity\n",
    "            hidden_size=hidden_size,\n",
    "            num_layers=lstm_layers,\n",
    "            dropout=dropout,\n",
    "            batch_first=True\n",
    "        )\n",
    "\n",
    "        # Classification head (pitch)\n",
    "        self.fc_pitch = nn.Sequential(\n",
    "            nn.Linear(hidden_size, hidden_size),\n",
    "            nn.ReLU(),\n",
    "            nn.Linear(hidden_size, 128)  # 128 possible MIDI classes (0–127)\n",
    "        )\n",
    "\n",
    "        # Regression head (step, duration, velocity)\n",
    "        self.fc_regression = nn.Sequential(\n",
    "            nn.Linear(hidden_size, hidden_size),\n",
    "            nn.ReLU(),\n",
    "            nn.Linear(hidden_size, 3)  # 3 continuous outputs\n",
    "        )\n",
    "\n",
    "    def forward(self, x):\n",
    "        \"\"\"\n",
    "        Runs model inference given an input sequence.\n",
    "\n",
    "        Parameters:\n",
    "        -----------\n",
    "        x : torch.Tensor\n",
    "            Input tensor with shape [batch_size, seq_len, 4].\n",
    "\n",
    "        Returns:\n",
    "        --------\n",
    "        pitch_logits : torch.Tensor\n",
    "            Pitch classification logits (shape: [batch_size, 128])\n",
    "        velocity_pred : torch.Tensor\n",
    "            Velocity prediction (shape: [batch_size])\n",
    "        step_pred : torch.Tensor\n",
    "            Step prediction (shape: [batch_size])\n",
    "        duration_pred : torch.Tensor\n",
    "            Duration prediction (shape: [batch_size])\n",
    "        \"\"\"\n",
    "        device = x.device\n",
    "\n",
    "        # Separate input variables\n",
    "        pitch = x[:, :, 0].long()                         # [B, T]\n",
    "        step = x[:, :, 1].unsqueeze(-1)                   # [B, T, 1]\n",
    "        duration = x[:, :, 2].unsqueeze(-1)               # [B, T, 1]\n",
    "        velocity = x[:, :, 3].unsqueeze(-1)               # [B, T, 1]\n",
    "\n",
    "        # Pitch embedding\n",
    "        pitch_emb = self.pitch_embedding(pitch)           # [B, T, pitch_embedding_dim]\n",
    "\n",
    "        # Concatenate all inputs\n",
    "        x_concat = torch.cat([pitch_emb, step, duration, velocity], dim=-1)  # [B, T, pitch_emb+3]\n",
    "\n",
    "        # Pass through LSTM\n",
    "        lstm_out, _ = self.lstm(x_concat)                 # [B, T, hidden_size]\n",
    "        h = lstm_out[:, -1, :]                            # Last hidden state [B, hidden_size]\n",
    "        h = self.norm(h)                                  # Normalization\n",
    "\n",
    "        # Predictions\n",
    "        pitch_logits = self.fc_pitch(h)                   # Pitch classification\n",
    "        reg_outputs = self.fc_regression(h)               # Continuous predictions\n",
    "        step_pred, duration_pred, velocity_pred = reg_outputs[:, 0], reg_outputs[:, 1], reg_outputs[:, 2]\n",
    "\n",
    "        return pitch_logits, velocity_pred, step_pred, duration_pred"
   ]
  },
  {
   "cell_type": "code",
   "execution_count": 6,
   "metadata": {
    "id": "2G9mZMzyJsMd"
   },
   "outputs": [],
   "source": [
    "class MusicLoss(nn.Module):\n",
    "    \"\"\"\n",
    "    Class that implements a loss function for the music generation model.\n",
    "\n",
    "    Combines a classification loss for pitch (CrossEntropyLoss) and regression\n",
    "    losses for step, duration, and velocity (L1Loss / MAE), with adjustable weights for each component.\n",
    "\n",
    "    Parameters:\n",
    "    ----------\n",
    "    omega : float\n",
    "        Weight for the pitch classification loss.\n",
    "    alpha : float\n",
    "        Weight for the step regression loss.\n",
    "    beta : float\n",
    "        Weight for the duration regression loss.\n",
    "    gamma : float\n",
    "        Weight for the velocity regression loss.\n",
    "    \"\"\"\n",
    "    def __init__(self, omega=1.0, alpha=1.0, beta=1.0, gamma=1.0):\n",
    "        super(MusicLoss, self).__init__()\n",
    "        self.ce = nn.CrossEntropyLoss()    # Classification loss (pitch)\n",
    "        self.mae = nn.L1Loss()             # Regression loss (step, duration, velocity)\n",
    "        self.omega = omega\n",
    "        self.alpha = alpha\n",
    "        self.beta = beta\n",
    "        self.gamma = gamma\n",
    "\n",
    "    def forward(self, pitch_logits, velocity_pred, step_pred, duration_pred, y_pitch, y_velocity, y_step, y_duration, x=None):\n",
    "        \"\"\"\n",
    "        Computes the total loss and each component separately.\n",
    "\n",
    "        Returns:\n",
    "        -------\n",
    "        total_loss : torch.Tensor\n",
    "            Weighted sum of all losses.\n",
    "        loss_pitch : torch.Tensor\n",
    "            Classification loss for pitch.\n",
    "        loss_step : torch.Tensor\n",
    "            Regression loss for step.\n",
    "        loss_duration : torch.Tensor\n",
    "            Regression loss for duration.\n",
    "        loss_velocity : torch.Tensor\n",
    "            Regression loss for velocity.\n",
    "        \"\"\"\n",
    "        # Compute individual losses\n",
    "        loss_pitch = self.omega * self.ce(pitch_logits, y_pitch)\n",
    "        loss_step = self.alpha * self.mae(step_pred, y_step)\n",
    "        loss_duration = self.beta * self.mae(duration_pred, y_duration)\n",
    "        loss_velocity = self.gamma * self.mae(velocity_pred, y_velocity)\n",
    "\n",
    "        # Total loss\n",
    "        total_loss = loss_pitch + loss_step + loss_duration + loss_velocity\n",
    "\n",
    "        return total_loss, loss_pitch, loss_step, loss_duration, loss_velocity"
   ]
  },
  {
   "cell_type": "code",
   "execution_count": 7,
   "metadata": {
    "id": "B_wu3jO0JsMe"
   },
   "outputs": [],
   "source": [
    "def train_model(model, dataloader_train, dataloader_val, criterion, optimizer, device, total_epochs=40, early_stopping=True, patience=7, min_delta=0.005, min_epochs=10, save_path='best_model.pt'):\n",
    "    \"\"\"\n",
    "    Trains the LSTM model for the mixed task of classification (pitch) and regression (step, duration, velocity).\n",
    "\n",
    "    Parameters:\n",
    "    ----------\n",
    "    model : nn.Module\n",
    "        LSTM model to be trained.\n",
    "    dataloader_train : DataLoader\n",
    "        Training set dataloader.\n",
    "    dataloader_val : DataLoader\n",
    "        Validation set dataloader.\n",
    "    criterion : nn.Module\n",
    "        Loss function.\n",
    "    optimizer : torch.optim.Optimizer\n",
    "        Optimizer to update weights.\n",
    "    device : torch.device\n",
    "        Device to run on ('cpu' or 'cuda').\n",
    "    total_epochs : int\n",
    "        Total number of training epochs.\n",
    "    early_stopping : bool\n",
    "        If True, stops training early if no improvement (see min_delta).\n",
    "    patience : int\n",
    "        Number of epochs without improvement before stopping (see early stopping).\n",
    "    min_delta : float\n",
    "        Minimum improvement required to be considered an improvement.\n",
    "    min_epochs : int\n",
    "        Minimum number of epochs before applying early stopping.\n",
    "    save_path : str\n",
    "        Path to save the best model.\n",
    "\n",
    "    Returns:\n",
    "    -------\n",
    "    all_loss_train : list\n",
    "        List of total training losses per epoch.\n",
    "    all_loss_val : list\n",
    "        List of total validation losses per epoch.\n",
    "    model : nn.Module\n",
    "        Model loaded with the best weights found during training.\n",
    "    \"\"\"\n",
    "    all_loss_train, all_loss_val = [], []\n",
    "    all_subloss_train = {'pitch': [], 'step': [], 'duration': [], 'velocity': []}\n",
    "    all_subloss_val = {'pitch': [], 'step': [], 'duration': [], 'velocity': []}\n",
    "\n",
    "    best_model_state = None\n",
    "    best_val_loss = float('inf')\n",
    "    patience_counter = 0\n",
    "\n",
    "    for epoch in range(total_epochs):\n",
    "        # Training\n",
    "        model.train()\n",
    "        epoch_loss_train = 0.0\n",
    "        subloss_train = {'pitch': 0.0, 'step': 0.0, 'duration': 0.0, 'velocity': 0.0}\n",
    "\n",
    "        loop = tqdm(dataloader_train, desc=f\"Epoch {epoch+1}/{total_epochs}\", ncols=100)\n",
    "        for x, y_pitch, y_step, y_duration, y_velocity in loop:\n",
    "            x = x.to(device).float()\n",
    "            y_pitch = y_pitch.to(device)\n",
    "            y_step = y_step.to(device)\n",
    "            y_duration = y_duration.to(device)\n",
    "            y_velocity = y_velocity.to(device)\n",
    "\n",
    "            optimizer.zero_grad()\n",
    "            pitch_logits, velocity_pred, step_pred, duration_pred = model(x)\n",
    "            loss, lp, ls, ld, lv = criterion(pitch_logits, velocity_pred, step_pred, duration_pred, y_pitch, y_velocity, y_step, y_duration, x)\n",
    "\n",
    "            # Backpropagation\n",
    "            loss.backward()\n",
    "            torch.nn.utils.clip_grad_norm_(model.parameters(), max_norm=1.0)  # Gradient clipping to prevent explosion\n",
    "            optimizer.step()\n",
    "\n",
    "            epoch_loss_train += loss.item()\n",
    "            subloss_train['pitch'] += lp.item()\n",
    "            subloss_train['step'] += ls.item()\n",
    "            subloss_train['duration'] += ld.item()\n",
    "            subloss_train['velocity'] += lv.item()\n",
    "\n",
    "        all_loss_train.append(epoch_loss_train / len(dataloader_train))\n",
    "        for k in subloss_train:\n",
    "            all_subloss_train[k].append(subloss_train[k] / len(dataloader_train))\n",
    "\n",
    "        # Validation\n",
    "        model.eval()\n",
    "        epoch_loss_val = 0.0\n",
    "        subloss_val = {'pitch': 0.0, 'step': 0.0, 'duration': 0.0, 'velocity': 0.0}\n",
    "\n",
    "        with torch.no_grad():\n",
    "            for x, y_pitch, y_step, y_duration, y_velocity in dataloader_val:\n",
    "                x = x.to(device).float()\n",
    "                y_pitch = y_pitch.to(device)\n",
    "                y_step = y_step.to(device)\n",
    "                y_duration = y_duration.to(device)\n",
    "                y_velocity = y_velocity.to(device)\n",
    "\n",
    "                pitch_logits, velocity_pred, step_pred, duration_pred = model(x)\n",
    "                loss, lp, ls, ld, lv = criterion(pitch_logits, velocity_pred, step_pred, duration_pred, y_pitch, y_velocity, y_step, y_duration, x)\n",
    "\n",
    "                epoch_loss_val += loss.item()\n",
    "                subloss_val['pitch'] += lp.item()\n",
    "                subloss_val['step'] += ls.item()\n",
    "                subloss_val['duration'] += ld.item()\n",
    "                subloss_val['velocity'] += lv.item()\n",
    "\n",
    "        val_loss_avg = epoch_loss_val / len(dataloader_val)\n",
    "        all_loss_val.append(val_loss_avg)\n",
    "        for k in subloss_val:\n",
    "            all_subloss_val[k].append(subloss_val[k] / len(dataloader_val))\n",
    "\n",
    "        tqdm.write(f\"Epoch {epoch+1}: Training Loss: {all_loss_train[-1]:.3f}, Validation Loss: {val_loss_avg:.3f}\")\n",
    "        if epoch % 5 == 0 or epoch == 1:\n",
    "            tqdm.write('-' * 20)\n",
    "            tqdm.write(f\"Pitch: {lp.item():.2f}, Step: {ls.item():.4f}, Duration: {ld.item():.2f}, Velocity: {lv.item():.4f}\")\n",
    "            tqdm.write('-' * 20)\n",
    "\n",
    "        # Save the best model. The model is overwritten each time a better one appears to resume training in case of failure.\n",
    "        if val_loss_avg < best_val_loss - min_delta:\n",
    "            best_val_loss = val_loss_avg\n",
    "            best_model_state = copy.deepcopy(model.state_dict())\n",
    "            patience_counter = 0\n",
    "            torch.save(best_model_state, save_path)\n",
    "            tqdm.write(f\"[Best model saved as: {save_path}]\")\n",
    "        else:\n",
    "            patience_counter += 1\n",
    "            if early_stopping and epoch + 1 >= min_epochs and patience_counter >= patience:\n",
    "                tqdm.write(\"Early stopping triggered!\")\n",
    "                break\n",
    "\n",
    "    # Plot: total loss per epoch\n",
    "    plt.figure(figsize=(6, 4))\n",
    "    plt.plot(all_loss_train, label='Training Loss')\n",
    "    plt.plot(all_loss_val, label='Validation Loss')\n",
    "    plt.xlabel('Epoch')\n",
    "    plt.ylabel('Loss')\n",
    "    plt.legend()\n",
    "    plt.grid(True)\n",
    "    plt.title('Total Loss per Epoch')\n",
    "    plt.tight_layout()\n",
    "    plt.show()\n",
    "\n",
    "    # Plots: individual losses\n",
    "    fig, axs = plt.subplots(2, 2, figsize=(8, 8))\n",
    "    var_names = ['pitch', 'step', 'duration', 'velocity']\n",
    "    for i, ax in enumerate(axs.flat):\n",
    "        var = var_names[i]\n",
    "        ax.plot(all_subloss_train[var], label='Training')\n",
    "        ax.plot(all_subloss_val[var], label='Val')\n",
    "        ax.set_title(f'Loss: {var.capitalize()}')\n",
    "        ax.legend()\n",
    "        ax.grid(True)\n",
    "    plt.tight_layout()\n",
    "    plt.show()\n",
    "\n",
    "    # Load best model before returning\n",
    "    if best_model_state:\n",
    "        model.load_state_dict(best_model_state)\n",
    "\n",
    "    return all_loss_train, all_loss_val, model"
   ]
  },
  {
   "cell_type": "code",
   "execution_count": 8,
   "metadata": {
    "id": "xzU0bCfmjdEI"
   },
   "outputs": [],
   "source": [
    "def generateSequence(model, seed, length=200, seq_len=50, device='cpu', sampling=True, temperature=1.0):\n",
    "    \"\"\"\n",
    "    Generates a sequence of notes based on a seed using a trained model.\n",
    "\n",
    "    Parameters:\n",
    "    ----------\n",
    "    model : nn.Module\n",
    "        Trained sequential model to generate music.\n",
    "    seed : torch.Tensor\n",
    "        Initial seed sequence of shape [T, 4] used as initial context.\n",
    "    length : int\n",
    "        Number of notes to generate.\n",
    "    seq_len : int\n",
    "        Maximum context length for the model (the length it was trained with).\n",
    "    device : str\n",
    "        Execution device ('cpu' or 'cuda').\n",
    "    sampling : bool\n",
    "        If True, use probabilistic sampling; otherwise, use the most likely value.\n",
    "    temperature : float\n",
    "        Controls randomness in sampling (only if `sampling` is True).\n",
    "\n",
    "    Returns:\n",
    "    -------\n",
    "    generated_seq : torch.Tensor\n",
    "        Generated sequence of shape [length, 4], excluding the seed.\n",
    "    \"\"\"\n",
    "    model.eval()\n",
    "    model.to(device)\n",
    "\n",
    "    seq = seed.clone().detach().to(device)  # Copy the seed\n",
    "    generated = []  # List to store the generated notes\n",
    "\n",
    "    for _ in range(length):\n",
    "        # Extract the most recent context of length seq_len\n",
    "        context = seq[-seq_len:] if seq.shape[0] >= seq_len else seq\n",
    "        context = context.unsqueeze(0).float().to(device)\n",
    "\n",
    "        with torch.no_grad():\n",
    "            pitch_logits, velocity_pred, step_pred, duration_pred = model(context)\n",
    "\n",
    "        # Select pitch to generate using sampling or argmax\n",
    "        if sampling:\n",
    "            scaled_logits = pitch_logits / temperature\n",
    "            pitch_probs = torch.softmax(scaled_logits, dim=-1)\n",
    "            pitch = torch.multinomial(pitch_probs, num_samples=1).item()\n",
    "        else:\n",
    "            pitch = torch.argmax(pitch_logits, dim=-1).item()\n",
    "\n",
    "        # Get predictions for continuous variables\n",
    "        velocity = velocity_pred.squeeze().item()\n",
    "        step = step_pred.squeeze().item()\n",
    "        duration = duration_pred.squeeze().item()\n",
    "\n",
    "        # Create new note and update sequence\n",
    "        next_note = torch.tensor([[pitch, step, duration, velocity]], device=device)\n",
    "        seq = torch.cat([seq, next_note], dim=0)\n",
    "        generated.append(next_note)\n",
    "\n",
    "    # Concatenate all generated notes\n",
    "    generated_seq = torch.cat(generated, dim=0)\n",
    "\n",
    "    print(\"Generation completed\")\n",
    "    return generated_seq"
   ]
  },
  {
   "cell_type": "code",
   "execution_count": 9,
   "metadata": {
    "id": "ClVUJ-UIt-_O"
   },
   "outputs": [],
   "source": [
    "def seq2midi(seq, filename='new_track.mid', instrument_name='Acoustic Grand Piano', scaler_step=None, scaler_duration=None):\n",
    "    \"\"\"\n",
    "    Converts a sequence of notes into a MIDI file.\n",
    "\n",
    "    Parameters:\n",
    "    ----------\n",
    "    seq : torch.Tensor\n",
    "        Generated note sequence. Each note must have the format [pitch, step, duration, velocity].\n",
    "    filename : str\n",
    "        Name of the output MIDI file.\n",
    "    instrument_name : str\n",
    "        Name of the instrument for the MIDI channel.\n",
    "    scaler_step : sklearn Scaler or None\n",
    "        Scaler used to inverse-transform step values.\n",
    "    scaler_duration : sklearn Scaler or None\n",
    "        Scaler used to inverse-transform duration values.\n",
    "    \"\"\"\n",
    "    # Initialize MIDI object and instrument channel\n",
    "    pm = pretty_midi.PrettyMIDI()\n",
    "    instrument = pretty_midi.Instrument(program=pretty_midi.instrument_name_to_program(instrument_name))\n",
    "    start = 0  # Start time of each note\n",
    "\n",
    "    # Inverse-transform 'step'\n",
    "    if scaler_step is not None:\n",
    "        step = scaler_step.inverse_transform(seq[:, 1].unsqueeze(-1).cpu().numpy()).squeeze()\n",
    "    else:\n",
    "        step = seq[:, 1].cpu().numpy()\n",
    "\n",
    "    # Inverse-transform 'duration'\n",
    "    if scaler_duration is not None:\n",
    "        duration = scaler_duration.inverse_transform(seq[:, 2].unsqueeze(-1).cpu().numpy()).squeeze()\n",
    "    else:\n",
    "        duration = seq[:, 2].cpu().numpy()\n",
    "\n",
    "    # Create and add notes to the instrument\n",
    "    for i, note in enumerate(seq):\n",
    "        pitch = int(np.clip(note[0].item(), 0, 127))\n",
    "        velocity = int(np.clip(note[3].item() * 127, 1, 127))\n",
    "        s = max(0, step[i])             # Time between notes\n",
    "        d = max(0.01, duration[i])      # Minimum duration\n",
    "        start += s\n",
    "        end = start + d\n",
    "        instrument.notes.append(pretty_midi.Note(velocity=velocity, pitch=pitch, start=start, end=end))\n",
    "\n",
    "    # Save MIDI file\n",
    "    pm.instruments.append(instrument)\n",
    "    pm.write(filename)\n",
    "    print(f\" {len(instrument.notes)} notes written to MIDI file: {filename}\")"
   ]
  },
  {
   "cell_type": "code",
   "execution_count": 10,
   "metadata": {
    "id": "MSDjAYicJsMh"
   },
   "outputs": [],
   "source": [
    "def compare_midi_statistics(seed_path, generated_path):\n",
    "    \"\"\"\n",
    "    Compares basic musical statistics (pitch, duration, step, and velocity) between a seed sequence and a generated one.\n",
    "    Plots comparative histograms for each MIDI variable.\n",
    "\n",
    "    Parameters:\n",
    "    ----------\n",
    "    seed_path : str\n",
    "        Path to the MIDI file containing the seed sequence.\n",
    "    generated_path : str\n",
    "        Path to the MIDI file generated by the model.\n",
    "    \"\"\"\n",
    "\n",
    "    # Internal function to extract MIDI note features\n",
    "    def extract_features(midi_path):\n",
    "        pm = pretty_midi.PrettyMIDI(midi_path)\n",
    "        instrument = pm.instruments[0]\n",
    "        pitches = np.array([note.pitch for note in instrument.notes])\n",
    "        velocities = np.array([note.velocity for note in instrument.notes])\n",
    "        start_times = np.array([note.start for note in instrument.notes])\n",
    "        end_times = np.array([note.end for note in instrument.notes])\n",
    "        durations = end_times - start_times\n",
    "        steps = np.diff(start_times, prepend=start_times[0])\n",
    "        return pitches, steps, durations, velocities\n",
    "\n",
    "    # Extract features from both MIDI files\n",
    "    pitch_seed, step_seed, duration_seed, velocity_seed = extract_features(seed_path)\n",
    "    pitch_gen, step_gen, duration_gen, velocity_gen = extract_features(generated_path)\n",
    "\n",
    "    print(f\"Notes in seed: {len(pitch_seed)}, Notes generated: {len(pitch_gen)}\")\n",
    "\n",
    "    # Plot comparative histograms\n",
    "    fig, axs = plt.subplots(4, 1, figsize=(8, 8), sharex=False)\n",
    "\n",
    "    axs[0].hist(pitch_seed, bins=np.arange(128), alpha=0.6, label='Seed', edgecolor='black', color='royalblue')\n",
    "    axs[0].hist(pitch_gen, bins=np.arange(128), alpha=0.4, label='Generated', edgecolor='black', color='darkorange')\n",
    "    axs[0].set_title(\"Pitch Distribution\")\n",
    "    axs[0].legend()\n",
    "    axs[0].set_xlim(min(pitch_seed.min(), pitch_gen.min()) - 1, max(pitch_seed.max(), pitch_gen.max()) + 1)\n",
    "    axs[0].grid(True)\n",
    "\n",
    "    axs[1].hist(velocity_seed, bins=30, alpha=0.6, label='Seed', edgecolor='black', color='royalblue')\n",
    "    axs[1].hist(velocity_gen, bins=30, alpha=0.4, label='Generated', edgecolor='black', color='darkorange')\n",
    "    axs[1].set_title(\"Velocity Distribution\")\n",
    "    axs[1].legend()\n",
    "\n",
    "    axs[2].hist(step_seed, bins=30, alpha=0.6, label='Seed', edgecolor='black', color='royalblue')\n",
    "    axs[2].hist(step_gen, bins=30, alpha=0.4, label='Generated', edgecolor='black', color='darkorange')\n",
    "    axs[2].set_title(\"Step Distribution\")\n",
    "    axs[2].legend()\n",
    "\n",
    "    axs[3].hist(duration_seed, bins=30, alpha=0.6, label='Seed', edgecolor='black', color='royalblue')\n",
    "    axs[3].hist(duration_gen, bins=30, alpha=0.4, label='Generated', edgecolor='black', color='darkorange')\n",
    "    axs[3].set_title(\"Duration Distribution\")\n",
    "    axs[3].legend()\n",
    "\n",
    "    plt.tight_layout()\n",
    "    plt.show()"
   ]
  },
  {
   "cell_type": "code",
   "execution_count": 11,
   "metadata": {
    "id": "qYsdjk_Kjyuc"
   },
   "outputs": [],
   "source": [
    "def DrawArchitecture():\n",
    "    \"\"\"\n",
    "    Draws a diagram of the LSTM model architecture used for music generation.\n",
    "    \"\"\"\n",
    "\n",
    "    # Create canvas\n",
    "    fig, ax = plt.subplots(figsize=(12, 8))\n",
    "    ax.set_xlim(0, 800)\n",
    "    ax.set_ylim(0, 600)\n",
    "    ax.axis('off')\n",
    "\n",
    "    # Colors\n",
    "    c_input = '#e3f2fd'     # Light blue → Input\n",
    "    c_emb = '#e8f5e9'       # Light green → Embedding\n",
    "    c_concat = '#fce4ec'    # Light pink → Concatenation\n",
    "    c_lstm = '#fff3e0'      # Light orange → LSTM\n",
    "    c_norm = '#eeeeee'      # Light gray → Normalization\n",
    "    c_fc = '#f3e5f5'        # Light purple → Fully Connected\n",
    "    c_out = '#ffffff'       # White → Output\n",
    "\n",
    "    # ===== LAYERS =====\n",
    "\n",
    "    # Input\n",
    "    ax.add_patch(patches.Rectangle((250, 500), 300, 50, facecolor=c_input, edgecolor='black'))\n",
    "    ax.text(400, 525, 'Input: [pitch, step, duration, velocity]', ha='center', va='center', fontsize=10)\n",
    "\n",
    "    # Pitch embedding\n",
    "    ax.add_patch(patches.Rectangle((250, 430), 300, 50, facecolor=c_emb, edgecolor='black'))\n",
    "    ax.text(400, 455, 'Pitch Embedding', ha='center', va='center', fontsize=10)\n",
    "\n",
    "    # Concatenation with other variables\n",
    "    ax.add_patch(patches.Rectangle((250, 370), 300, 40, facecolor=c_concat, edgecolor='black'))\n",
    "    ax.text(400, 390, 'Concatenation with step, duration, velocity', ha='center', va='center', fontsize=9)\n",
    "\n",
    "    # LSTM\n",
    "    ax.add_patch(patches.Rectangle((250, 300), 300, 50, facecolor=c_lstm, edgecolor='black'))\n",
    "    ax.text(400, 325, 'LSTM (2 layers with dropout)', ha='center', va='center', fontsize=10)\n",
    "\n",
    "    # Layer Normalization\n",
    "    ax.add_patch(patches.Rectangle((250, 240), 300, 40, facecolor=c_norm, edgecolor='black'))\n",
    "    ax.text(400, 260, 'LayerNorm', ha='center', va='center', fontsize=10)\n",
    "\n",
    "    # FC pitch\n",
    "    ax.add_patch(patches.Rectangle((80, 160), 250, 40, facecolor=c_fc, edgecolor='black'))\n",
    "    ax.text(205, 180, 'FC pitch: Linear → ReLU → Linear → 128', ha='center', va='center', fontsize=10)\n",
    "\n",
    "    # FC regression\n",
    "    ax.add_patch(patches.Rectangle((470, 160), 250, 40, facecolor=c_fc, edgecolor='black'))\n",
    "    ax.text(595, 180, 'FC regression: Linear → ReLU → Linear → 3', ha='center', va='center', fontsize=10)\n",
    "\n",
    "    # Output pitch\n",
    "    ax.add_patch(patches.Rectangle((80, 80), 250, 40, facecolor=c_out, edgecolor='black'))\n",
    "    ax.text(205, 100, 'Output pitch_logits [batch_size, 128]', ha='center', va='center', fontsize=9)\n",
    "\n",
    "    # Output regression\n",
    "    ax.add_patch(patches.Rectangle((470, 80), 250, 40, facecolor=c_out, edgecolor='black'))\n",
    "    ax.text(595, 100, 'Output: step, duration, velocity [batch_size]', ha='center', va='center', fontsize=9)\n",
    "\n",
    "    # ===== CONNECTIONS =====\n",
    "\n",
    "    ax.add_line(mlines.Line2D([400, 400], [500, 480], color='black'))  # Input → Embedding\n",
    "    ax.add_line(mlines.Line2D([400, 400], [430, 410], color='black'))  # Embedding → Concat\n",
    "    ax.add_line(mlines.Line2D([400, 400], [370, 350], color='black'))  # Concat → LSTM\n",
    "    ax.add_line(mlines.Line2D([400, 400], [300, 280], color='black'))  # LSTM → LayerNorm\n",
    "\n",
    "    # Split into two branches\n",
    "    ax.add_line(mlines.Line2D([400, 205], [240, 200], color='black'))  # Norm → FC pitch\n",
    "    ax.add_line(mlines.Line2D([400, 595], [240, 200], color='black'))  # Norm → FC regression\n",
    "\n",
    "    # FCs to outputs\n",
    "    ax.add_line(mlines.Line2D([205, 205], [160, 120], color='black'))  # FC pitch → output\n",
    "    ax.add_line(mlines.Line2D([595, 595], [160, 120], color='black'))  # FC regression → output\n",
    "\n",
    "    # Show\n",
    "    plt.tight_layout()\n",
    "    plt.savefig('lstm_architecture_diagram.png', dpi=300, bbox_inches='tight')\n",
    "    plt.show()\n"
   ]
  },
  {
   "cell_type": "markdown",
   "metadata": {
    "id": "TZwMr8WyJsMi"
   },
   "source": [
    "#  -----------------------------------------------------  Execution  ----------------------------------------------"
   ]
  },
  {
   "cell_type": "markdown",
   "metadata": {
    "id": "Jtc1uL7XJsMj"
   },
   "source": [
    "### Parameters"
   ]
  },
  {
   "cell_type": "code",
   "execution_count": 12,
   "metadata": {
    "id": "bTvhsFxfJsMj"
   },
   "outputs": [],
   "source": [
    "# =================== Training and Model Configuration ===================\n",
    "\n",
    "data_path = 'mozart'                            # Folder containing the MIDI files\n",
    "batch_size = 64                                 # Batch size for training\n",
    "seq_len = 200                                   # Sequence length\n",
    "hidden_size = 64                                # Number of hidden units in the LSTM\n",
    "lstm_layers = 4                                 # Number of stacked LSTM layers\n",
    "dropout = 0.4                                   # Dropout rate in the LSTM\n",
    "lr = 0.0005                                     # Learning rate\n",
    "\n",
    "# Weights for each component in the loss function\n",
    "\n",
    "omega = 0.3                                     # Weight for pitch loss (classification)\n",
    "alpha = 2                                       # Weight for step loss (regression)\n",
    "beta = 2                                        # Weight for duration loss (regression)\n",
    "gamma = 1                                       # Weight for velocity loss (regression)\n",
    "\n",
    "# Training parameters\n",
    "\n",
    "train_new_model = True                          # If True, trains a new model; if False, loads a pre-trained model\n",
    "load_path = 'model__mozart_'                    # Path to load the model if train_new_model is False\n",
    "epochs = 200                                    # Total number of training epochs\n",
    "save_state_path = f'state_{data_path}_'         # Prefix for saving the best model\n",
    "early_stopping = True                           # Enable early stopping\n",
    "min_epochs = 25                                 # Minimum number of epochs before applying early stopping\n",
    "save_model_path = f'model__{data_path}_{epochs}_epochs'\n",
    "\n",
    "# Generation\n",
    "\n",
    "temperature = 1.0                               # Modulates the pitch distribution during generation [0,1]"
   ]
  },
  {
   "cell_type": "markdown",
   "metadata": {
    "id": "K05z2nGVJsMk"
   },
   "source": [
    "### Data Preparation"
   ]
  },
  {
   "cell_type": "code",
   "execution_count": 13,
   "metadata": {
    "colab": {
     "base_uri": "https://localhost:8080/"
    },
    "id": "c9LN251PjbCm",
    "outputId": "82f3e812-7a88-469a-fe95-945e8ec23239"
   },
   "outputs": [
    {
     "name": "stdout",
     "output_type": "stream",
     "text": [
      "Shape of x:               torch.Size([64, 200, 4])\n",
      "Shape of y_pitch:         torch.Size([64])\n",
      "Shape of y_step:          torch.Size([64])\n",
      "Shape of y_duration:      torch.Size([64])\n",
      "Shape of y_velocity:      torch.Size([64])\n"
     ]
    }
   ],
   "source": [
    "# =================== Load data, split dataset, and create DataLoaders ===================\n",
    "\n",
    "# Load and process MIDI files from the specified directory\n",
    "sequences = load_data_from_folder(data_path)\n",
    "\n",
    "# Create custom dataset\n",
    "dataset = CreateDataset(sequences, seq_len=seq_len)\n",
    "\n",
    "# Split dataset into training, validation, and test sets\n",
    "total_size = len(dataset)\n",
    "train_size = int(0.8 * total_size)             # 80% for training\n",
    "val_size = int(0.1 * total_size)               # 10% for validation\n",
    "test_size = total_size - train_size - val_size # 10% for testing\n",
    "\n",
    "train_dataset, val_dataset, test_dataset = random_split(dataset, [train_size, val_size, test_size])\n",
    "\n",
    "# Create DataLoaders\n",
    "dataloader_train = DataLoader(train_dataset, batch_size=batch_size, shuffle=True)\n",
    "dataloader_val = DataLoader(val_dataset, batch_size=batch_size, shuffle=False)\n",
    "dataloader_test = DataLoader(test_dataset, batch_size=batch_size, shuffle=False)\n",
    "\n",
    "# =================== Quick data shape check (Sanity Check) ===================\n",
    "\n",
    "for x, y_pitch, y_step, y_duration, y_velocity in dataloader_train:\n",
    "    print(\"Shape of x:              \", x.shape)           # [batch_size, seq_len, 4]\n",
    "    print(\"Shape of y_pitch:        \", y_pitch.shape)     # [batch_size]\n",
    "    print(\"Shape of y_step:         \", y_step.shape)      # [batch_size]\n",
    "    print(\"Shape of y_duration:     \", y_duration.shape)  # [batch_size]\n",
    "    print(\"Shape of y_velocity:     \", y_velocity.shape)  # [batch_size]\n",
    "    break"
   ]
  },
  {
   "cell_type": "markdown",
   "metadata": {
    "id": "wd8Ig0efJsMk"
   },
   "source": [
    "## Training"
   ]
  },
  {
   "cell_type": "code",
   "execution_count": 14,
   "metadata": {
    "colab": {
     "base_uri": "https://localhost:8080/"
    },
    "id": "fOAYYfqujcI1",
    "outputId": "2a96ab3f-9b53-4303-9c9b-dfe12775350c"
   },
   "outputs": [
    {
     "name": "stdout",
     "output_type": "stream",
     "text": [
      "LSTMModel(\n",
      "  (pitch_embedding): Embedding(128, 40)\n",
      "  (norm): LayerNorm((64,), eps=1e-05, elementwise_affine=True)\n",
      "  (lstm): LSTM(43, 64, num_layers=4, batch_first=True, dropout=0.4)\n",
      "  (fc_pitch): Sequential(\n",
      "    (0): Linear(in_features=64, out_features=64, bias=True)\n",
      "    (1): ReLU()\n",
      "    (2): Linear(in_features=64, out_features=128, bias=True)\n",
      "  )\n",
      "  (fc_regression): Sequential(\n",
      "    (0): Linear(in_features=64, out_features=64, bias=True)\n",
      "    (1): ReLU()\n",
      "    (2): Linear(in_features=64, out_features=3, bias=True)\n",
      "  )\n",
      ")\n",
      "Total trainable parameters: 149,827\n"
     ]
    },
    {
     "data": {
      "image/png": "[encoded data removed]",
      "text/plain": [
       "<Figure size 1200x800 with 1 Axes>"
      ]
     },
     "metadata": {},
     "output_type": "display_data"
    }
   ],
   "source": [
    "# =================== Instantiate model, loss function, and optimizer ===================\n",
    "\n",
    "# Create an instance of the LSTM model with the defined parameters\n",
    "model = LSTMModel(hidden_size=hidden_size, lstm_layers=lstm_layers, dropout=dropout)\n",
    "model.to(device)\n",
    "\n",
    "# Print the model architecture\n",
    "print(model)\n",
    "\n",
    "# Define the optimizer\n",
    "optimizer = torch.optim.Adam(model.parameters(), lr=lr)\n",
    "\n",
    "# Instantiate the loss function\n",
    "criterion = MusicLoss(omega=omega, alpha=alpha, beta=beta, gamma=gamma)\n",
    "\n",
    "# Print the total number of trainable parameters in the model\n",
    "print(f'Total trainable parameters: {sum(p.numel() for p in model.parameters()):,}')\n",
    "\n",
    "# Plot the implemented architecture\n",
    "DrawArchitecture()"
   ]
  },
  {
   "cell_type": "code",
   "execution_count": 15,
   "metadata": {
    "colab": {
     "base_uri": "https://localhost:8080/"
    },
    "id": "ZkYwArNJjcbv",
    "outputId": "f80095d2-e3d6-4a0e-f1f0-d5ba3ee577f0"
   },
   "outputs": [
    {
     "name": "stderr",
     "output_type": "stream",
     "text": [
      "Epoch 1/200: 100%|████████████████████████████████████████████████| 430/430 [00:04<00:00, 89.07it/s]\n"
     ]
    },
    {
     "name": "stdout",
     "output_type": "stream",
     "text": [
      "Epoch 1: Training Loss: 1.169, Validation Loss: 1.050\n",
      "--------------------\n",
      "Pitch: 0.89, Step: 0.0378, Duration: 0.04, Velocity: 0.0709\n",
      "--------------------\n",
      "[Best model saved as: state_mozart_]\n"
     ]
    },
    {
     "name": "stderr",
     "output_type": "stream",
     "text": [
      "Epoch 2/200: 100%|████████████████████████████████████████████████| 430/430 [00:04<00:00, 97.14it/s]\n"
     ]
    },
    {
     "name": "stdout",
     "output_type": "stream",
     "text": [
      "Epoch 2: Training Loss: 0.979, Validation Loss: 0.929\n",
      "--------------------\n",
      "Pitch: 0.79, Step: 0.0341, Duration: 0.04, Velocity: 0.0618\n",
      "--------------------\n",
      "[Best model saved as: state_mozart_]\n"
     ]
    },
    {
     "name": "stderr",
     "output_type": "stream",
     "text": [
      "Epoch 3/200: 100%|████████████████████████████████████████████████| 430/430 [00:04<00:00, 96.96it/s]\n"
     ]
    },
    {
     "name": "stdout",
     "output_type": "stream",
     "text": [
      "Epoch 3: Training Loss: 0.913, Validation Loss: 0.887\n",
      "[Best model saved as: state_mozart_]\n"
     ]
    },
    {
     "name": "stderr",
     "output_type": "stream",
     "text": [
      "Epoch 4/200: 100%|████████████████████████████████████████████████| 430/430 [00:04<00:00, 97.47it/s]\n"
     ]
    },
    {
     "name": "stdout",
     "output_type": "stream",
     "text": [
      "Epoch 4: Training Loss: 0.891, Validation Loss: 0.877\n",
      "[Best model saved as: state_mozart_]\n"
     ]
    },
    {
     "name": "stderr",
     "output_type": "stream",
     "text": [
      "Epoch 5/200: 100%|████████████████████████████████████████████████| 430/430 [00:04<00:00, 97.35it/s]\n"
     ]
    },
    {
     "name": "stdout",
     "output_type": "stream",
     "text": [
      "Epoch 5: Training Loss: 0.877, Validation Loss: 0.862\n",
      "[Best model saved as: state_mozart_]\n"
     ]
    },
    {
     "name": "stderr",
     "output_type": "stream",
     "text": [
      "Epoch 6/200: 100%|████████████████████████████████████████████████| 430/430 [00:04<00:00, 97.16it/s]\n"
     ]
    },
    {
     "name": "stdout",
     "output_type": "stream",
     "text": [
      "Epoch 6: Training Loss: 0.862, Validation Loss: 0.856\n",
      "--------------------\n",
      "Pitch: 0.77, Step: 0.0499, Duration: 0.03, Velocity: 0.0487\n",
      "--------------------\n",
      "[Best model saved as: state_mozart_]\n"
     ]
    },
    {
     "name": "stderr",
     "output_type": "stream",
     "text": [
      "Epoch 7/200: 100%|████████████████████████████████████████████████| 430/430 [00:04<00:00, 96.81it/s]\n"
     ]
    },
    {
     "name": "stdout",
     "output_type": "stream",
     "text": [
      "Epoch 7: Training Loss: 0.853, Validation Loss: 0.838\n",
      "[Best model saved as: state_mozart_]\n"
     ]
    },
    {
     "name": "stderr",
     "output_type": "stream",
     "text": [
      "Epoch 8/200: 100%|████████████████████████████████████████████████| 430/430 [00:04<00:00, 96.73it/s]\n"
     ]
    },
    {
     "name": "stdout",
     "output_type": "stream",
     "text": [
      "Epoch 8: Training Loss: 0.845, Validation Loss: 0.837\n"
     ]
    },
    {
     "name": "stderr",
     "output_type": "stream",
     "text": [
      "Epoch 9/200: 100%|████████████████████████████████████████████████| 430/430 [00:04<00:00, 96.85it/s]\n"
     ]
    },
    {
     "name": "stdout",
     "output_type": "stream",
     "text": [
      "Epoch 9: Training Loss: 0.836, Validation Loss: 0.832\n",
      "[Best model saved as: state_mozart_]\n"
     ]
    },
    {
     "name": "stderr",
     "output_type": "stream",
     "text": [
      "Epoch 10/200: 100%|███████████████████████████████████████████████| 430/430 [00:04<00:00, 96.73it/s]\n"
     ]
    },
    {
     "name": "stdout",
     "output_type": "stream",
     "text": [
      "Epoch 10: Training Loss: 0.829, Validation Loss: 0.817\n",
      "[Best model saved as: state_mozart_]\n"
     ]
    },
    {
     "name": "stderr",
     "output_type": "stream",
     "text": [
      "Epoch 11/200: 100%|███████████████████████████████████████████████| 430/430 [00:04<00:00, 97.21it/s]\n"
     ]
    },
    {
     "name": "stdout",
     "output_type": "stream",
     "text": [
      "Epoch 11: Training Loss: 0.824, Validation Loss: 0.816\n",
      "--------------------\n",
      "Pitch: 0.73, Step: 0.0344, Duration: 0.03, Velocity: 0.0412\n",
      "--------------------\n"
     ]
    },
    {
     "name": "stderr",
     "output_type": "stream",
     "text": [
      "Epoch 12/200: 100%|███████████████████████████████████████████████| 430/430 [00:04<00:00, 97.44it/s]\n"
     ]
    },
    {
     "name": "stdout",
     "output_type": "stream",
     "text": [
      "Epoch 12: Training Loss: 0.818, Validation Loss: 0.810\n",
      "[Best model saved as: state_mozart_]\n"
     ]
    },
    {
     "name": "stderr",
     "output_type": "stream",
     "text": [
      "Epoch 13/200: 100%|███████████████████████████████████████████████| 430/430 [00:04<00:00, 96.89it/s]\n"
     ]
    },
    {
     "name": "stdout",
     "output_type": "stream",
     "text": [
      "Epoch 13: Training Loss: 0.813, Validation Loss: 0.808\n"
     ]
    },
    {
     "name": "stderr",
     "output_type": "stream",
     "text": [
      "Epoch 14/200: 100%|███████████████████████████████████████████████| 430/430 [00:04<00:00, 98.20it/s]\n"
     ]
    },
    {
     "name": "stdout",
     "output_type": "stream",
     "text": [
      "Epoch 14: Training Loss: 0.808, Validation Loss: 0.800\n",
      "[Best model saved as: state_mozart_]\n"
     ]
    },
    {
     "name": "stderr",
     "output_type": "stream",
     "text": [
      "Epoch 15/200: 100%|███████████████████████████████████████████████| 430/430 [00:04<00:00, 95.47it/s]\n"
     ]
    },
    {
     "name": "stdout",
     "output_type": "stream",
     "text": [
      "Epoch 15: Training Loss: 0.804, Validation Loss: 0.798\n"
     ]
    },
    {
     "name": "stderr",
     "output_type": "stream",
     "text": [
      "Epoch 16/200: 100%|███████████████████████████████████████████████| 430/430 [00:04<00:00, 96.05it/s]\n"
     ]
    },
    {
     "name": "stdout",
     "output_type": "stream",
     "text": [
      "Epoch 16: Training Loss: 0.799, Validation Loss: 0.797\n",
      "--------------------\n",
      "Pitch: 0.70, Step: 0.0296, Duration: 0.03, Velocity: 0.0389\n",
      "--------------------\n"
     ]
    },
    {
     "name": "stderr",
     "output_type": "stream",
     "text": [
      "Epoch 17/200: 100%|███████████████████████████████████████████████| 430/430 [00:04<00:00, 96.24it/s]\n"
     ]
    },
    {
     "name": "stdout",
     "output_type": "stream",
     "text": [
      "Epoch 17: Training Loss: 0.793, Validation Loss: 0.789\n",
      "[Best model saved as: state_mozart_]\n"
     ]
    },
    {
     "name": "stderr",
     "output_type": "stream",
     "text": [
      "Epoch 18/200: 100%|███████████████████████████████████████████████| 430/430 [00:04<00:00, 96.54it/s]\n"
     ]
    },
    {
     "name": "stdout",
     "output_type": "stream",
     "text": [
      "Epoch 18: Training Loss: 0.791, Validation Loss: 0.792\n"
     ]
    },
    {
     "name": "stderr",
     "output_type": "stream",
     "text": [
      "Epoch 19/200: 100%|███████████████████████████████████████████████| 430/430 [00:04<00:00, 96.14it/s]\n"
     ]
    },
    {
     "name": "stdout",
     "output_type": "stream",
     "text": [
      "Epoch 19: Training Loss: 0.788, Validation Loss: 0.796\n"
     ]
    },
    {
     "name": "stderr",
     "output_type": "stream",
     "text": [
      "Epoch 20/200: 100%|███████████████████████████████████████████████| 430/430 [00:04<00:00, 97.04it/s]\n"
     ]
    },
    {
     "name": "stdout",
     "output_type": "stream",
     "text": [
      "Epoch 20: Training Loss: 0.784, Validation Loss: 0.780\n",
      "[Best model saved as: state_mozart_]\n"
     ]
    },
    {
     "name": "stderr",
     "output_type": "stream",
     "text": [
      "Epoch 21/200: 100%|███████████████████████████████████████████████| 430/430 [00:04<00:00, 97.11it/s]\n"
     ]
    },
    {
     "name": "stdout",
     "output_type": "stream",
     "text": [
      "Epoch 21: Training Loss: 0.779, Validation Loss: 0.779\n",
      "--------------------\n",
      "Pitch: 0.68, Step: 0.0322, Duration: 0.03, Velocity: 0.0401\n",
      "--------------------\n"
     ]
    },
    {
     "name": "stderr",
     "output_type": "stream",
     "text": [
      "Epoch 22/200: 100%|███████████████████████████████████████████████| 430/430 [00:04<00:00, 96.92it/s]\n"
     ]
    },
    {
     "name": "stdout",
     "output_type": "stream",
     "text": [
      "Epoch 22: Training Loss: 0.775, Validation Loss: 0.779\n"
     ]
    },
    {
     "name": "stderr",
     "output_type": "stream",
     "text": [
      "Epoch 23/200: 100%|███████████████████████████████████████████████| 430/430 [00:04<00:00, 97.29it/s]\n"
     ]
    },
    {
     "name": "stdout",
     "output_type": "stream",
     "text": [
      "Epoch 23: Training Loss: 0.773, Validation Loss: 0.777\n"
     ]
    },
    {
     "name": "stderr",
     "output_type": "stream",
     "text": [
      "Epoch 24/200: 100%|███████████████████████████████████████████████| 430/430 [00:04<00:00, 97.75it/s]\n"
     ]
    },
    {
     "name": "stdout",
     "output_type": "stream",
     "text": [
      "Epoch 24: Training Loss: 0.766, Validation Loss: 0.771\n",
      "[Best model saved as: state_mozart_]\n"
     ]
    },
    {
     "name": "stderr",
     "output_type": "stream",
     "text": [
      "Epoch 25/200: 100%|███████████████████████████████████████████████| 430/430 [00:04<00:00, 97.38it/s]\n"
     ]
    },
    {
     "name": "stdout",
     "output_type": "stream",
     "text": [
      "Epoch 25: Training Loss: 0.763, Validation Loss: 0.766\n"
     ]
    },
    {
     "name": "stderr",
     "output_type": "stream",
     "text": [
      "Epoch 26/200: 100%|███████████████████████████████████████████████| 430/430 [00:04<00:00, 97.71it/s]\n"
     ]
    },
    {
     "name": "stdout",
     "output_type": "stream",
     "text": [
      "Epoch 26: Training Loss: 0.761, Validation Loss: 0.766\n",
      "--------------------\n",
      "Pitch: 0.67, Step: 0.0287, Duration: 0.03, Velocity: 0.0376\n",
      "--------------------\n"
     ]
    },
    {
     "name": "stderr",
     "output_type": "stream",
     "text": [
      "Epoch 27/200: 100%|███████████████████████████████████████████████| 430/430 [00:04<00:00, 97.91it/s]\n"
     ]
    },
    {
     "name": "stdout",
     "output_type": "stream",
     "text": [
      "Epoch 27: Training Loss: 0.755, Validation Loss: 0.760\n",
      "[Best model saved as: state_mozart_]\n"
     ]
    },
    {
     "name": "stderr",
     "output_type": "stream",
     "text": [
      "Epoch 28/200: 100%|███████████████████████████████████████████████| 430/430 [00:04<00:00, 98.03it/s]\n"
     ]
    },
    {
     "name": "stdout",
     "output_type": "stream",
     "text": [
      "Epoch 28: Training Loss: 0.752, Validation Loss: 0.759\n"
     ]
    },
    {
     "name": "stderr",
     "output_type": "stream",
     "text": [
      "Epoch 29/200: 100%|███████████████████████████████████████████████| 430/430 [00:04<00:00, 97.67it/s]\n"
     ]
    },
    {
     "name": "stdout",
     "output_type": "stream",
     "text": [
      "Epoch 29: Training Loss: 0.748, Validation Loss: 0.755\n",
      "[Best model saved as: state_mozart_]\n"
     ]
    },
    {
     "name": "stderr",
     "output_type": "stream",
     "text": [
      "Epoch 30/200: 100%|███████████████████████████████████████████████| 430/430 [00:04<00:00, 97.39it/s]\n"
     ]
    },
    {
     "name": "stdout",
     "output_type": "stream",
     "text": [
      "Epoch 30: Training Loss: 0.745, Validation Loss: 0.753\n"
     ]
    },
    {
     "name": "stderr",
     "output_type": "stream",
     "text": [
      "Epoch 31/200: 100%|███████████████████████████████████████████████| 430/430 [00:04<00:00, 97.75it/s]\n"
     ]
    },
    {
     "name": "stdout",
     "output_type": "stream",
     "text": [
      "Epoch 31: Training Loss: 0.739, Validation Loss: 0.752\n",
      "--------------------\n",
      "Pitch: 0.67, Step: 0.0331, Duration: 0.03, Velocity: 0.0366\n",
      "--------------------\n"
     ]
    },
    {
     "name": "stderr",
     "output_type": "stream",
     "text": [
      "Epoch 32/200: 100%|███████████████████████████████████████████████| 430/430 [00:04<00:00, 97.81it/s]\n"
     ]
    },
    {
     "name": "stdout",
     "output_type": "stream",
     "text": [
      "Epoch 32: Training Loss: 0.735, Validation Loss: 0.748\n",
      "[Best model saved as: state_mozart_]\n"
     ]
    },
    {
     "name": "stderr",
     "output_type": "stream",
     "text": [
      "Epoch 33/200: 100%|███████████████████████████████████████████████| 430/430 [00:04<00:00, 98.07it/s]\n"
     ]
    },
    {
     "name": "stdout",
     "output_type": "stream",
     "text": [
      "Epoch 33: Training Loss: 0.731, Validation Loss: 0.742\n",
      "[Best model saved as: state_mozart_]\n"
     ]
    },
    {
     "name": "stderr",
     "output_type": "stream",
     "text": [
      "Epoch 34/200: 100%|███████████████████████████████████████████████| 430/430 [00:04<00:00, 98.07it/s]\n"
     ]
    },
    {
     "name": "stdout",
     "output_type": "stream",
     "text": [
      "Epoch 34: Training Loss: 0.725, Validation Loss: 0.736\n",
      "[Best model saved as: state_mozart_]\n"
     ]
    },
    {
     "name": "stderr",
     "output_type": "stream",
     "text": [
      "Epoch 35/200: 100%|███████████████████████████████████████████████| 430/430 [00:04<00:00, 98.26it/s]\n"
     ]
    },
    {
     "name": "stdout",
     "output_type": "stream",
     "text": [
      "Epoch 35: Training Loss: 0.725, Validation Loss: 0.735\n"
     ]
    },
    {
     "name": "stderr",
     "output_type": "stream",
     "text": [
      "Epoch 36/200: 100%|███████████████████████████████████████████████| 430/430 [00:04<00:00, 97.88it/s]\n"
     ]
    },
    {
     "name": "stdout",
     "output_type": "stream",
     "text": [
      "Epoch 36: Training Loss: 0.718, Validation Loss: 0.730\n",
      "--------------------\n",
      "Pitch: 0.65, Step: 0.0292, Duration: 0.03, Velocity: 0.0387\n",
      "--------------------\n",
      "[Best model saved as: state_mozart_]\n"
     ]
    },
    {
     "name": "stderr",
     "output_type": "stream",
     "text": [
      "Epoch 37/200: 100%|███████████████████████████████████████████████| 430/430 [00:04<00:00, 97.68it/s]\n"
     ]
    },
    {
     "name": "stdout",
     "output_type": "stream",
     "text": [
      "Epoch 37: Training Loss: 0.713, Validation Loss: 0.733\n"
     ]
    },
    {
     "name": "stderr",
     "output_type": "stream",
     "text": [
      "Epoch 38/200: 100%|███████████████████████████████████████████████| 430/430 [00:04<00:00, 97.99it/s]\n"
     ]
    },
    {
     "name": "stdout",
     "output_type": "stream",
     "text": [
      "Epoch 38: Training Loss: 0.708, Validation Loss: 0.727\n"
     ]
    },
    {
     "name": "stderr",
     "output_type": "stream",
     "text": [
      "Epoch 39/200: 100%|███████████████████████████████████████████████| 430/430 [00:04<00:00, 97.48it/s]\n"
     ]
    },
    {
     "name": "stdout",
     "output_type": "stream",
     "text": [
      "Epoch 39: Training Loss: 0.705, Validation Loss: 0.726\n"
     ]
    },
    {
     "name": "stderr",
     "output_type": "stream",
     "text": [
      "Epoch 40/200: 100%|███████████████████████████████████████████████| 430/430 [00:04<00:00, 97.86it/s]\n"
     ]
    },
    {
     "name": "stdout",
     "output_type": "stream",
     "text": [
      "Epoch 40: Training Loss: 0.702, Validation Loss: 0.719\n",
      "[Best model saved as: state_mozart_]\n"
     ]
    },
    {
     "name": "stderr",
     "output_type": "stream",
     "text": [
      "Epoch 41/200: 100%|███████████████████████████████████████████████| 430/430 [00:04<00:00, 97.37it/s]\n"
     ]
    },
    {
     "name": "stdout",
     "output_type": "stream",
     "text": [
      "Epoch 41: Training Loss: 0.697, Validation Loss: 0.714\n",
      "--------------------\n",
      "Pitch: 0.65, Step: 0.0314, Duration: 0.03, Velocity: 0.0382\n",
      "--------------------\n",
      "[Best model saved as: state_mozart_]\n"
     ]
    },
    {
     "name": "stderr",
     "output_type": "stream",
     "text": [
      "Epoch 42/200: 100%|███████████████████████████████████████████████| 430/430 [00:04<00:00, 97.71it/s]\n"
     ]
    },
    {
     "name": "stdout",
     "output_type": "stream",
     "text": [
      "Epoch 42: Training Loss: 0.692, Validation Loss: 0.708\n",
      "[Best model saved as: state_mozart_]\n"
     ]
    },
    {
     "name": "stderr",
     "output_type": "stream",
     "text": [
      "Epoch 43/200: 100%|███████████████████████████████████████████████| 430/430 [00:04<00:00, 98.16it/s]\n"
     ]
    },
    {
     "name": "stdout",
     "output_type": "stream",
     "text": [
      "Epoch 43: Training Loss: 0.690, Validation Loss: 0.709\n"
     ]
    },
    {
     "name": "stderr",
     "output_type": "stream",
     "text": [
      "Epoch 44/200: 100%|███████████████████████████████████████████████| 430/430 [00:04<00:00, 98.21it/s]\n"
     ]
    },
    {
     "name": "stdout",
     "output_type": "stream",
     "text": [
      "Epoch 44: Training Loss: 0.686, Validation Loss: 0.706\n"
     ]
    },
    {
     "name": "stderr",
     "output_type": "stream",
     "text": [
      "Epoch 45/200: 100%|███████████████████████████████████████████████| 430/430 [00:04<00:00, 97.12it/s]\n"
     ]
    },
    {
     "name": "stdout",
     "output_type": "stream",
     "text": [
      "Epoch 45: Training Loss: 0.684, Validation Loss: 0.711\n"
     ]
    },
    {
     "name": "stderr",
     "output_type": "stream",
     "text": [
      "Epoch 46/200: 100%|███████████████████████████████████████████████| 430/430 [00:04<00:00, 95.42it/s]\n"
     ]
    },
    {
     "name": "stdout",
     "output_type": "stream",
     "text": [
      "Epoch 46: Training Loss: 0.679, Validation Loss: 0.706\n",
      "--------------------\n",
      "Pitch: 0.62, Step: 0.0301, Duration: 0.03, Velocity: 0.0382\n",
      "--------------------\n"
     ]
    },
    {
     "name": "stderr",
     "output_type": "stream",
     "text": [
      "Epoch 47/200: 100%|███████████████████████████████████████████████| 430/430 [00:04<00:00, 96.60it/s]\n"
     ]
    },
    {
     "name": "stdout",
     "output_type": "stream",
     "text": [
      "Epoch 47: Training Loss: 0.675, Validation Loss: 0.699\n",
      "[Best model saved as: state_mozart_]\n"
     ]
    },
    {
     "name": "stderr",
     "output_type": "stream",
     "text": [
      "Epoch 48/200: 100%|███████████████████████████████████████████████| 430/430 [00:04<00:00, 96.68it/s]\n"
     ]
    },
    {
     "name": "stdout",
     "output_type": "stream",
     "text": [
      "Epoch 48: Training Loss: 0.671, Validation Loss: 0.698\n"
     ]
    },
    {
     "name": "stderr",
     "output_type": "stream",
     "text": [
      "Epoch 49/200: 100%|███████████████████████████████████████████████| 430/430 [00:04<00:00, 96.09it/s]\n"
     ]
    },
    {
     "name": "stdout",
     "output_type": "stream",
     "text": [
      "Epoch 49: Training Loss: 0.671, Validation Loss: 0.695\n"
     ]
    },
    {
     "name": "stderr",
     "output_type": "stream",
     "text": [
      "Epoch 50/200: 100%|███████████████████████████████████████████████| 430/430 [00:04<00:00, 95.80it/s]\n"
     ]
    },
    {
     "name": "stdout",
     "output_type": "stream",
     "text": [
      "Epoch 50: Training Loss: 0.665, Validation Loss: 0.692\n",
      "[Best model saved as: state_mozart_]\n"
     ]
    },
    {
     "name": "stderr",
     "output_type": "stream",
     "text": [
      "Epoch 51/200: 100%|███████████████████████████████████████████████| 430/430 [00:04<00:00, 97.05it/s]\n"
     ]
    },
    {
     "name": "stdout",
     "output_type": "stream",
     "text": [
      "Epoch 51: Training Loss: 0.661, Validation Loss: 0.692\n",
      "--------------------\n",
      "Pitch: 0.65, Step: 0.0277, Duration: 0.03, Velocity: 0.0413\n",
      "--------------------\n"
     ]
    },
    {
     "name": "stderr",
     "output_type": "stream",
     "text": [
      "Epoch 52/200: 100%|███████████████████████████████████████████████| 430/430 [00:04<00:00, 96.88it/s]\n"
     ]
    },
    {
     "name": "stdout",
     "output_type": "stream",
     "text": [
      "Epoch 52: Training Loss: 0.659, Validation Loss: 0.693\n"
     ]
    },
    {
     "name": "stderr",
     "output_type": "stream",
     "text": [
      "Epoch 53/200: 100%|███████████████████████████████████████████████| 430/430 [00:04<00:00, 95.54it/s]\n"
     ]
    },
    {
     "name": "stdout",
     "output_type": "stream",
     "text": [
      "Epoch 53: Training Loss: 0.656, Validation Loss: 0.692\n"
     ]
    },
    {
     "name": "stderr",
     "output_type": "stream",
     "text": [
      "Epoch 54/200: 100%|███████████████████████████████████████████████| 430/430 [00:04<00:00, 95.78it/s]\n"
     ]
    },
    {
     "name": "stdout",
     "output_type": "stream",
     "text": [
      "Epoch 54: Training Loss: 0.650, Validation Loss: 0.687\n",
      "[Best model saved as: state_mozart_]\n"
     ]
    },
    {
     "name": "stderr",
     "output_type": "stream",
     "text": [
      "Epoch 55/200: 100%|███████████████████████████████████████████████| 430/430 [00:04<00:00, 94.37it/s]\n"
     ]
    },
    {
     "name": "stdout",
     "output_type": "stream",
     "text": [
      "Epoch 55: Training Loss: 0.649, Validation Loss: 0.685\n"
     ]
    },
    {
     "name": "stderr",
     "output_type": "stream",
     "text": [
      "Epoch 56/200: 100%|███████████████████████████████████████████████| 430/430 [00:04<00:00, 94.79it/s]\n"
     ]
    },
    {
     "name": "stdout",
     "output_type": "stream",
     "text": [
      "Epoch 56: Training Loss: 0.647, Validation Loss: 0.680\n",
      "--------------------\n",
      "Pitch: 0.62, Step: 0.0283, Duration: 0.03, Velocity: 0.0407\n",
      "--------------------\n",
      "[Best model saved as: state_mozart_]\n"
     ]
    },
    {
     "name": "stderr",
     "output_type": "stream",
     "text": [
      "Epoch 57/200: 100%|███████████████████████████████████████████████| 430/430 [00:04<00:00, 95.84it/s]\n"
     ]
    },
    {
     "name": "stdout",
     "output_type": "stream",
     "text": [
      "Epoch 57: Training Loss: 0.641, Validation Loss: 0.680\n"
     ]
    },
    {
     "name": "stderr",
     "output_type": "stream",
     "text": [
      "Epoch 58/200: 100%|███████████████████████████████████████████████| 430/430 [00:04<00:00, 94.33it/s]\n"
     ]
    },
    {
     "name": "stdout",
     "output_type": "stream",
     "text": [
      "Epoch 58: Training Loss: 0.640, Validation Loss: 0.679\n"
     ]
    },
    {
     "name": "stderr",
     "output_type": "stream",
     "text": [
      "Epoch 59/200: 100%|███████████████████████████████████████████████| 430/430 [00:04<00:00, 97.51it/s]\n"
     ]
    },
    {
     "name": "stdout",
     "output_type": "stream",
     "text": [
      "Epoch 59: Training Loss: 0.638, Validation Loss: 0.679\n"
     ]
    },
    {
     "name": "stderr",
     "output_type": "stream",
     "text": [
      "Epoch 60/200: 100%|███████████████████████████████████████████████| 430/430 [00:04<00:00, 98.02it/s]\n"
     ]
    },
    {
     "name": "stdout",
     "output_type": "stream",
     "text": [
      "Epoch 60: Training Loss: 0.633, Validation Loss: 0.674\n",
      "[Best model saved as: state_mozart_]\n"
     ]
    },
    {
     "name": "stderr",
     "output_type": "stream",
     "text": [
      "Epoch 61/200: 100%|███████████████████████████████████████████████| 430/430 [00:04<00:00, 97.34it/s]\n"
     ]
    },
    {
     "name": "stdout",
     "output_type": "stream",
     "text": [
      "Epoch 61: Training Loss: 0.631, Validation Loss: 0.676\n",
      "--------------------\n",
      "Pitch: 0.60, Step: 0.0275, Duration: 0.03, Velocity: 0.0455\n",
      "--------------------\n"
     ]
    },
    {
     "name": "stderr",
     "output_type": "stream",
     "text": [
      "Epoch 62/200: 100%|███████████████████████████████████████████████| 430/430 [00:04<00:00, 97.27it/s]\n"
     ]
    },
    {
     "name": "stdout",
     "output_type": "stream",
     "text": [
      "Epoch 62: Training Loss: 0.626, Validation Loss: 0.675\n"
     ]
    },
    {
     "name": "stderr",
     "output_type": "stream",
     "text": [
      "Epoch 63/200: 100%|███████████████████████████████████████████████| 430/430 [00:04<00:00, 97.60it/s]\n"
     ]
    },
    {
     "name": "stdout",
     "output_type": "stream",
     "text": [
      "Epoch 63: Training Loss: 0.624, Validation Loss: 0.668\n",
      "[Best model saved as: state_mozart_]\n"
     ]
    },
    {
     "name": "stderr",
     "output_type": "stream",
     "text": [
      "Epoch 64/200: 100%|███████████████████████████████████████████████| 430/430 [00:04<00:00, 97.92it/s]\n"
     ]
    },
    {
     "name": "stdout",
     "output_type": "stream",
     "text": [
      "Epoch 64: Training Loss: 0.623, Validation Loss: 0.666\n"
     ]
    },
    {
     "name": "stderr",
     "output_type": "stream",
     "text": [
      "Epoch 65/200: 100%|███████████████████████████████████████████████| 430/430 [00:04<00:00, 97.82it/s]\n"
     ]
    },
    {
     "name": "stdout",
     "output_type": "stream",
     "text": [
      "Epoch 65: Training Loss: 0.620, Validation Loss: 0.668\n"
     ]
    },
    {
     "name": "stderr",
     "output_type": "stream",
     "text": [
      "Epoch 66/200: 100%|███████████████████████████████████████████████| 430/430 [00:04<00:00, 97.80it/s]\n"
     ]
    },
    {
     "name": "stdout",
     "output_type": "stream",
     "text": [
      "Epoch 66: Training Loss: 0.618, Validation Loss: 0.664\n",
      "--------------------\n",
      "Pitch: 0.61, Step: 0.0285, Duration: 0.03, Velocity: 0.0410\n",
      "--------------------\n"
     ]
    },
    {
     "name": "stderr",
     "output_type": "stream",
     "text": [
      "Epoch 67/200: 100%|███████████████████████████████████████████████| 430/430 [00:04<00:00, 97.96it/s]\n"
     ]
    },
    {
     "name": "stdout",
     "output_type": "stream",
     "text": [
      "Epoch 67: Training Loss: 0.614, Validation Loss: 0.665\n"
     ]
    },
    {
     "name": "stderr",
     "output_type": "stream",
     "text": [
      "Epoch 68/200: 100%|███████████████████████████████████████████████| 430/430 [00:04<00:00, 97.45it/s]\n"
     ]
    },
    {
     "name": "stdout",
     "output_type": "stream",
     "text": [
      "Epoch 68: Training Loss: 0.612, Validation Loss: 0.665\n"
     ]
    },
    {
     "name": "stderr",
     "output_type": "stream",
     "text": [
      "Epoch 69/200: 100%|███████████████████████████████████████████████| 430/430 [00:04<00:00, 97.60it/s]\n"
     ]
    },
    {
     "name": "stdout",
     "output_type": "stream",
     "text": [
      "Epoch 69: Training Loss: 0.608, Validation Loss: 0.663\n",
      "[Best model saved as: state_mozart_]\n"
     ]
    },
    {
     "name": "stderr",
     "output_type": "stream",
     "text": [
      "Epoch 70/200: 100%|███████████████████████████████████████████████| 430/430 [00:04<00:00, 98.11it/s]\n"
     ]
    },
    {
     "name": "stdout",
     "output_type": "stream",
     "text": [
      "Epoch 70: Training Loss: 0.605, Validation Loss: 0.661\n"
     ]
    },
    {
     "name": "stderr",
     "output_type": "stream",
     "text": [
      "Epoch 71/200: 100%|███████████████████████████████████████████████| 430/430 [00:04<00:00, 97.97it/s]\n"
     ]
    },
    {
     "name": "stdout",
     "output_type": "stream",
     "text": [
      "Epoch 71: Training Loss: 0.604, Validation Loss: 0.655\n",
      "--------------------\n",
      "Pitch: 0.62, Step: 0.0256, Duration: 0.03, Velocity: 0.0377\n",
      "--------------------\n",
      "[Best model saved as: state_mozart_]\n"
     ]
    },
    {
     "name": "stderr",
     "output_type": "stream",
     "text": [
      "Epoch 72/200: 100%|███████████████████████████████████████████████| 430/430 [00:04<00:00, 97.89it/s]\n"
     ]
    },
    {
     "name": "stdout",
     "output_type": "stream",
     "text": [
      "Epoch 72: Training Loss: 0.603, Validation Loss: 0.653\n"
     ]
    },
    {
     "name": "stderr",
     "output_type": "stream",
     "text": [
      "Epoch 73/200: 100%|███████████████████████████████████████████████| 430/430 [00:04<00:00, 97.87it/s]\n"
     ]
    },
    {
     "name": "stdout",
     "output_type": "stream",
     "text": [
      "Epoch 73: Training Loss: 0.599, Validation Loss: 0.659\n"
     ]
    },
    {
     "name": "stderr",
     "output_type": "stream",
     "text": [
      "Epoch 74/200: 100%|███████████████████████████████████████████████| 430/430 [00:04<00:00, 97.77it/s]\n"
     ]
    },
    {
     "name": "stdout",
     "output_type": "stream",
     "text": [
      "Epoch 74: Training Loss: 0.594, Validation Loss: 0.654\n"
     ]
    },
    {
     "name": "stderr",
     "output_type": "stream",
     "text": [
      "Epoch 75/200: 100%|███████████████████████████████████████████████| 430/430 [00:04<00:00, 97.43it/s]\n"
     ]
    },
    {
     "name": "stdout",
     "output_type": "stream",
     "text": [
      "Epoch 75: Training Loss: 0.592, Validation Loss: 0.652\n"
     ]
    },
    {
     "name": "stderr",
     "output_type": "stream",
     "text": [
      "Epoch 76/200: 100%|███████████████████████████████████████████████| 430/430 [00:04<00:00, 97.50it/s]\n"
     ]
    },
    {
     "name": "stdout",
     "output_type": "stream",
     "text": [
      "Epoch 76: Training Loss: 0.591, Validation Loss: 0.649\n",
      "--------------------\n",
      "Pitch: 0.61, Step: 0.0267, Duration: 0.03, Velocity: 0.0434\n",
      "--------------------\n",
      "[Best model saved as: state_mozart_]\n"
     ]
    },
    {
     "name": "stderr",
     "output_type": "stream",
     "text": [
      "Epoch 77/200: 100%|███████████████████████████████████████████████| 430/430 [00:04<00:00, 97.31it/s]\n"
     ]
    },
    {
     "name": "stdout",
     "output_type": "stream",
     "text": [
      "Epoch 77: Training Loss: 0.588, Validation Loss: 0.650\n"
     ]
    },
    {
     "name": "stderr",
     "output_type": "stream",
     "text": [
      "Epoch 78/200: 100%|███████████████████████████████████████████████| 430/430 [00:04<00:00, 96.95it/s]\n"
     ]
    },
    {
     "name": "stdout",
     "output_type": "stream",
     "text": [
      "Epoch 78: Training Loss: 0.586, Validation Loss: 0.651\n"
     ]
    },
    {
     "name": "stderr",
     "output_type": "stream",
     "text": [
      "Epoch 79/200: 100%|███████████████████████████████████████████████| 430/430 [00:04<00:00, 97.34it/s]\n"
     ]
    },
    {
     "name": "stdout",
     "output_type": "stream",
     "text": [
      "Epoch 79: Training Loss: 0.583, Validation Loss: 0.653\n"
     ]
    },
    {
     "name": "stderr",
     "output_type": "stream",
     "text": [
      "Epoch 80/200: 100%|███████████████████████████████████████████████| 430/430 [00:04<00:00, 97.51it/s]\n"
     ]
    },
    {
     "name": "stdout",
     "output_type": "stream",
     "text": [
      "Epoch 80: Training Loss: 0.582, Validation Loss: 0.651\n"
     ]
    },
    {
     "name": "stderr",
     "output_type": "stream",
     "text": [
      "Epoch 81/200: 100%|███████████████████████████████████████████████| 430/430 [00:04<00:00, 97.62it/s]\n"
     ]
    },
    {
     "name": "stdout",
     "output_type": "stream",
     "text": [
      "Epoch 81: Training Loss: 0.579, Validation Loss: 0.646\n",
      "--------------------\n",
      "Pitch: 0.65, Step: 0.0251, Duration: 0.03, Velocity: 0.0388\n",
      "--------------------\n"
     ]
    },
    {
     "name": "stderr",
     "output_type": "stream",
     "text": [
      "Epoch 82/200: 100%|███████████████████████████████████████████████| 430/430 [00:04<00:00, 97.44it/s]\n"
     ]
    },
    {
     "name": "stdout",
     "output_type": "stream",
     "text": [
      "Epoch 82: Training Loss: 0.576, Validation Loss: 0.649\n"
     ]
    },
    {
     "name": "stderr",
     "output_type": "stream",
     "text": [
      "Epoch 83/200: 100%|███████████████████████████████████████████████| 430/430 [00:04<00:00, 97.90it/s]\n"
     ]
    },
    {
     "name": "stdout",
     "output_type": "stream",
     "text": [
      "Epoch 83: Training Loss: 0.574, Validation Loss: 0.641\n",
      "[Best model saved as: state_mozart_]\n"
     ]
    },
    {
     "name": "stderr",
     "output_type": "stream",
     "text": [
      "Epoch 84/200: 100%|███████████████████████████████████████████████| 430/430 [00:04<00:00, 97.67it/s]\n"
     ]
    },
    {
     "name": "stdout",
     "output_type": "stream",
     "text": [
      "Epoch 84: Training Loss: 0.572, Validation Loss: 0.647\n"
     ]
    },
    {
     "name": "stderr",
     "output_type": "stream",
     "text": [
      "Epoch 85/200: 100%|███████████████████████████████████████████████| 430/430 [00:04<00:00, 95.24it/s]\n"
     ]
    },
    {
     "name": "stdout",
     "output_type": "stream",
     "text": [
      "Epoch 85: Training Loss: 0.572, Validation Loss: 0.644\n"
     ]
    },
    {
     "name": "stderr",
     "output_type": "stream",
     "text": [
      "Epoch 86/200: 100%|███████████████████████████████████████████████| 430/430 [00:04<00:00, 96.57it/s]\n"
     ]
    },
    {
     "name": "stdout",
     "output_type": "stream",
     "text": [
      "Epoch 86: Training Loss: 0.570, Validation Loss: 0.639\n",
      "--------------------\n",
      "Pitch: 0.66, Step: 0.0254, Duration: 0.03, Velocity: 0.0384\n",
      "--------------------\n"
     ]
    },
    {
     "name": "stderr",
     "output_type": "stream",
     "text": [
      "Epoch 87/200: 100%|███████████████████████████████████████████████| 430/430 [00:04<00:00, 95.89it/s]\n"
     ]
    },
    {
     "name": "stdout",
     "output_type": "stream",
     "text": [
      "Epoch 87: Training Loss: 0.564, Validation Loss: 0.640\n"
     ]
    },
    {
     "name": "stderr",
     "output_type": "stream",
     "text": [
      "Epoch 88/200: 100%|███████████████████████████████████████████████| 430/430 [00:04<00:00, 95.54it/s]\n"
     ]
    },
    {
     "name": "stdout",
     "output_type": "stream",
     "text": [
      "Epoch 88: Training Loss: 0.564, Validation Loss: 0.641\n"
     ]
    },
    {
     "name": "stderr",
     "output_type": "stream",
     "text": [
      "Epoch 89/200: 100%|███████████████████████████████████████████████| 430/430 [00:04<00:00, 97.25it/s]\n"
     ]
    },
    {
     "name": "stdout",
     "output_type": "stream",
     "text": [
      "Epoch 89: Training Loss: 0.562, Validation Loss: 0.640\n"
     ]
    },
    {
     "name": "stderr",
     "output_type": "stream",
     "text": [
      "Epoch 90/200: 100%|███████████████████████████████████████████████| 430/430 [00:04<00:00, 95.72it/s]\n"
     ]
    },
    {
     "name": "stdout",
     "output_type": "stream",
     "text": [
      "Epoch 90: Training Loss: 0.560, Validation Loss: 0.635\n",
      "[Best model saved as: state_mozart_]\n"
     ]
    },
    {
     "name": "stderr",
     "output_type": "stream",
     "text": [
      "Epoch 91/200: 100%|███████████████████████████████████████████████| 430/430 [00:04<00:00, 95.69it/s]\n"
     ]
    },
    {
     "name": "stdout",
     "output_type": "stream",
     "text": [
      "Epoch 91: Training Loss: 0.558, Validation Loss: 0.634\n",
      "--------------------\n",
      "Pitch: 0.70, Step: 0.0263, Duration: 0.03, Velocity: 0.0386\n",
      "--------------------\n"
     ]
    },
    {
     "name": "stderr",
     "output_type": "stream",
     "text": [
      "Epoch 92/200: 100%|███████████████████████████████████████████████| 430/430 [00:04<00:00, 96.67it/s]\n"
     ]
    },
    {
     "name": "stdout",
     "output_type": "stream",
     "text": [
      "Epoch 92: Training Loss: 0.556, Validation Loss: 0.636\n"
     ]
    },
    {
     "name": "stderr",
     "output_type": "stream",
     "text": [
      "Epoch 93/200: 100%|███████████████████████████████████████████████| 430/430 [00:04<00:00, 95.62it/s]\n"
     ]
    },
    {
     "name": "stdout",
     "output_type": "stream",
     "text": [
      "Epoch 93: Training Loss: 0.558, Validation Loss: 0.634\n"
     ]
    },
    {
     "name": "stderr",
     "output_type": "stream",
     "text": [
      "Epoch 94/200: 100%|███████████████████████████████████████████████| 430/430 [00:04<00:00, 96.89it/s]\n"
     ]
    },
    {
     "name": "stdout",
     "output_type": "stream",
     "text": [
      "Epoch 94: Training Loss: 0.550, Validation Loss: 0.633\n"
     ]
    },
    {
     "name": "stderr",
     "output_type": "stream",
     "text": [
      "Epoch 95/200: 100%|███████████████████████████████████████████████| 430/430 [00:04<00:00, 96.78it/s]\n"
     ]
    },
    {
     "name": "stdout",
     "output_type": "stream",
     "text": [
      "Epoch 95: Training Loss: 0.553, Validation Loss: 0.631\n"
     ]
    },
    {
     "name": "stderr",
     "output_type": "stream",
     "text": [
      "Epoch 96/200: 100%|███████████████████████████████████████████████| 430/430 [00:04<00:00, 96.36it/s]\n"
     ]
    },
    {
     "name": "stdout",
     "output_type": "stream",
     "text": [
      "Epoch 96: Training Loss: 0.546, Validation Loss: 0.637\n",
      "--------------------\n",
      "Pitch: 0.68, Step: 0.0263, Duration: 0.03, Velocity: 0.0374\n",
      "--------------------\n"
     ]
    },
    {
     "name": "stderr",
     "output_type": "stream",
     "text": [
      "Epoch 97/200: 100%|███████████████████████████████████████████████| 430/430 [00:04<00:00, 97.39it/s]\n"
     ]
    },
    {
     "name": "stdout",
     "output_type": "stream",
     "text": [
      "Epoch 97: Training Loss: 0.546, Validation Loss: 0.632\n",
      "Early stopping triggered!\n"
     ]
    },
    {
     "data": {
      "image/png": "[encoded data removed]",
      "text/plain": [
       "<Figure size 600x400 with 1 Axes>"
      ]
     },
     "metadata": {},
     "output_type": "display_data"
    },
    {
     "data": {
      "image/png": "[encoded data removed]",
      "text/plain": [
       "<Figure size 800x800 with 4 Axes>"
      ]
     },
     "metadata": {},
     "output_type": "display_data"
    }
   ],
   "source": [
    "# =================== Run training or load a pre-trained model ===================\n",
    "if train_new_model:\n",
    "\n",
    "    loss_history_train, loss_history_val, model = train_model(model,\n",
    "                                                              dataloader_train,\n",
    "                                                              dataloader_val,\n",
    "                                                              criterion,\n",
    "                                                              optimizer,\n",
    "                                                              device=device,\n",
    "                                                              total_epochs=epochs,\n",
    "                                                              early_stopping=early_stopping,\n",
    "                                                              min_epochs=min_epochs,\n",
    "                                                              save_path=save_state_path)\n",
    "\n",
    "    joblib.dump(model, save_model_path)  # Store the model in reusable format\n",
    "else:\n",
    "    model = joblib.load(load_path)  # Load a pre-trained model\n",
    "    print(f'Model \"{load_path}\" loaded successfully')"
   ]
  },
  {
   "cell_type": "markdown",
   "metadata": {
    "id": "MpxFskxXJsMm"
   },
   "source": [
    "### Generation Phase"
   ]
  },
  {
   "cell_type": "code",
   "execution_count": 16,
   "metadata": {
    "colab": {
     "base_uri": "https://localhost:8080/"
    },
    "id": "_CuUGfkosnU3",
    "outputId": "436adf67-e861-403e-ace6-4d697f40895d"
   },
   "outputs": [
    {
     "name": "stdout",
     "output_type": "stream",
     "text": [
      "Generation completed\n",
      " 200 notes written to MIDI file: myTrack_1_04-15__02:04.mid\n",
      " 200 notes written to MIDI file: seed_1_04-15__02:04.mid\n",
      "******************************\n",
      "Song # 1\n",
      "******************************\n",
      "Notes in seed: 200, Notes generated: 200\n"
     ]
    },
    {
     "data": {
      "image/png": "[encoded data removed]",
      "text/plain": [
       "<Figure size 800x800 with 4 Axes>"
      ]
     },
     "metadata": {},
     "output_type": "display_data"
    },
    {
     "name": "stdout",
     "output_type": "stream",
     "text": [
      "Generation completed\n",
      " 200 notes written to MIDI file: myTrack_2_04-15__02:04.mid\n",
      " 200 notes written to MIDI file: seed_2_04-15__02:04.mid\n",
      "******************************\n",
      "Song # 2\n",
      "******************************\n",
      "Notes in seed: 200, Notes generated: 200\n"
     ]
    },
    {
     "data": {
      "image/png": "[encoded data removed]",
      "text/plain": [
       "<Figure size 800x800 with 4 Axes>"
      ]
     },
     "metadata": {},
     "output_type": "display_data"
    },
    {
     "name": "stdout",
     "output_type": "stream",
     "text": [
      "Generation completed\n",
      " 200 notes written to MIDI file: myTrack_3_04-15__02:04.mid\n",
      " 200 notes written to MIDI file: seed_3_04-15__02:04.mid\n",
      "******************************\n",
      "Song # 3\n",
      "******************************\n",
      "Notes in seed: 200, Notes generated: 200\n"
     ]
    },
    {
     "data": {
      "image/png": "[encoded data removed]",
      "text/plain": [
       "<Figure size 800x800 with 4 Axes>"
      ]
     },
     "metadata": {},
     "output_type": "display_data"
    }
   ],
   "source": [
    "# =================== Sequence generation and statistics comparison ===================\n",
    "\n",
    "# Load previously trained scalers to inverse transform 'step' and 'duration'\n",
    "scaler_step = load('scalers/scaler_step.pkl')\n",
    "scaler_duration = load('scalers/scaler_duration.pkl')\n",
    "\n",
    "# Generate and evaluate 3 sequences using different seeds\n",
    "for i in range(1, 4):\n",
    "    random.seed(99 + i)  # Change the seed to obtain a different sequence each time\n",
    "    seed, *_ = test_dataset[random.randint(0, len(test_dataset) - 1)]  # Random selection from test dataset\n",
    "\n",
    "    # Generate new sequence from the seed\n",
    "    newTrack = generateSequence(model, seed, device=device, temperature=temperature)\n",
    "\n",
    "    # Define filenames with index and current timestamp\n",
    "    timestamp = datetime.now().strftime(\"%m-%d__%H:%M\")\n",
    "    midi_save_path = f'myTrack_{i}_{timestamp}.mid'\n",
    "    seed_save_path = f'seed_{i}_{timestamp}.mid'\n",
    "\n",
    "    # Save the generated sequence and the seed as MIDI files\n",
    "    seq2midi(newTrack, midi_save_path, scaler_step=scaler_step, scaler_duration=scaler_duration)\n",
    "    seq2midi(seed, seed_save_path, scaler_step=scaler_step, scaler_duration=scaler_duration)\n",
    "\n",
    "    # Compare statistics between the seed and the generated sequence\n",
    "    print('*'*30)\n",
    "    print(f\"Song # {i}\")\n",
    "    print('*'*30)\n",
    "    compare_midi_statistics(seed_save_path, midi_save_path)"
   ]
  },
  {
   "cell_type": "code",
   "execution_count": 17,
   "metadata": {
    "id": "9Pe85nZTJsMn",
    "outputId": "fd83a703-480b-47f0-8ec2-511bc20cfea1"
   },
   "outputs": [
    {
     "name": "stdout",
     "output_type": "stream",
     "text": [
      "Note: you may need to restart the kernel to use updated packages.\n"
     ]
    }
   ],
   "source": [
    "pip freeze > requirements.txt # Export  the requirements file for deployment in other environments"
   ]
  }
 ],
 "metadata": {
  "colab": {
   "provenance": []
  },
  "kernelspec": {
   "display_name": "Python 3 (ipykernel)",
   "language": "python",
   "name": "python3"
  },
  "language_info": {
   "codemirror_mode": {
    "name": "ipython",
    "version": 3
   },
   "file_extension": ".py",
   "mimetype": "text/x-python",
   "name": "python",
   "nbconvert_exporter": "python",
   "pygments_lexer": "ipython3",
   "version": "3.11.0rc1"
  }
 },
 "nbformat": 4,
 "nbformat_minor": 4
}
